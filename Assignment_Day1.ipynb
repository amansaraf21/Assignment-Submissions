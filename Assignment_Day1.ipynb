{
  "nbformat": 4,
  "nbformat_minor": 0,
  "metadata": {
    "colab": {
      "name": "Assignment_Day1.ipynb",
      "provenance": [],
      "collapsed_sections": [
        "wWr9yCnRtagF",
        "aLQsTRLItffm"
      ]
    },
    "kernelspec": {
      "name": "python3",
      "display_name": "Python 3"
    },
    "language_info": {
      "name": "python"
    }
  },
  "cells": [
    {
      "cell_type": "markdown",
      "metadata": {
        "id": "ASpCYrdBiF7b"
      },
      "source": [
        "Assignment day- 1\n",
        "\n",
        "Date - 05/07/2021\n",
        "\n",
        "Name - Aman Saraf\n",
        "\n",
        "Email - amansaraf1999@gmail.com\n",
        "\n",
        "\n"
      ]
    },
    {
      "cell_type": "code",
      "metadata": {
        "id": "HPx04Wm7eooN"
      },
      "source": [
        "import numpy as np\n",
        "import pandas as pd\n",
        "import matplotlib as mpl\n",
        "import matplotlib.pyplot as plt\n",
        "%matplotlib inline"
      ],
      "execution_count": 38,
      "outputs": []
    },
    {
      "cell_type": "markdown",
      "metadata": {
        "id": "wWr9yCnRtagF"
      },
      "source": [
        "##Assignment 1"
      ]
    },
    {
      "cell_type": "code",
      "metadata": {
        "id": "JuMEnbHdeUcq"
      },
      "source": [
        "x = np.arange(0,10)\n",
        "y = x * x"
      ],
      "execution_count": 3,
      "outputs": []
    },
    {
      "cell_type": "code",
      "metadata": {
        "colab": {
          "base_uri": "https://localhost:8080/"
        },
        "id": "1TvnueSuezD2",
        "outputId": "88819c7d-1c98-4ab9-fb66-92ea16e21b27"
      },
      "source": [
        "x"
      ],
      "execution_count": 4,
      "outputs": [
        {
          "output_type": "execute_result",
          "data": {
            "text/plain": [
              "array([0, 1, 2, 3, 4, 5, 6, 7, 8, 9])"
            ]
          },
          "metadata": {
            "tags": []
          },
          "execution_count": 4
        }
      ]
    },
    {
      "cell_type": "code",
      "metadata": {
        "colab": {
          "base_uri": "https://localhost:8080/"
        },
        "id": "BBRNja5-ezn1",
        "outputId": "1b5c387a-fb58-45bb-d281-d872c7c534dc"
      },
      "source": [
        "y"
      ],
      "execution_count": 5,
      "outputs": [
        {
          "output_type": "execute_result",
          "data": {
            "text/plain": [
              "array([ 0,  1,  4,  9, 16, 25, 36, 49, 64, 81])"
            ]
          },
          "metadata": {
            "tags": []
          },
          "execution_count": 5
        }
      ]
    },
    {
      "cell_type": "code",
      "metadata": {
        "colab": {
          "base_uri": "https://localhost:8080/",
          "height": 312
        },
        "id": "RNIEdeoff6q4",
        "outputId": "a4af9ebc-919a-440b-9557-2f308039ddd4"
      },
      "source": [
        "plt.title(\"Sine Waveform\",color='rosybrown')\n",
        "plt.xlabel(\"x-label\",color='gray')\n",
        "plt.ylabel(\"y-label\",color='gray')\n",
        "plt.plot(x, y, color='green', linestyle='dashed',linewidth=2, marker='o',markerfacecolor='blue', markersize=6)"
      ],
      "execution_count": 37,
      "outputs": [
        {
          "output_type": "execute_result",
          "data": {
            "text/plain": [
              "[<matplotlib.lines.Line2D at 0x7fd6fc16ed90>]"
            ]
          },
          "metadata": {
            "tags": []
          },
          "execution_count": 37
        },
        {
          "output_type": "display_data",
          "data": {
            "image/png": "[encoded data removed]",
            "text/plain": [
              "<Figure size 432x288 with 1 Axes>"
            ]
          },
          "metadata": {
            "tags": [],
            "needs_background": "light"
          }
        }
      ]
    },
    {
      "cell_type": "markdown",
      "metadata": {
        "id": "aLQsTRLItffm"
      },
      "source": [
        "##Assignment2"
      ]
    },
    {
      "cell_type": "code",
      "metadata": {
        "colab": {
          "base_uri": "https://localhost:8080/",
          "height": 50
        },
        "id": "MBkbVFGBtkws",
        "outputId": "0aa76a52-7747-4b3c-f535-bdf7ff6366a8"
      },
      "source": [
        "days = [1,2,3,4,5,6,7]\n",
        "sales_1 = [160, 150, 140, 145, 175, 165, 180]\n",
        "sales_2 = [70, 90, 160, 150, 140, 145, 175]\n",
        "plt.figure(figsize=(6,5), dpi=150)"
      ],
      "execution_count": 39,
      "outputs": [
        {
          "output_type": "execute_result",
          "data": {
            "text/plain": [
              "<Figure size 900x750 with 0 Axes>"
            ]
          },
          "metadata": {
            "tags": []
          },
          "execution_count": 39
        },
        {
          "output_type": "display_data",
          "data": {
            "text/plain": [
              "<Figure size 900x750 with 0 Axes>"
            ]
          },
          "metadata": {
            "tags": []
          }
        }
      ]
    },
    {
      "cell_type": "code",
      "metadata": {
        "colab": {
          "base_uri": "https://localhost:8080/",
          "height": 295
        },
        "id": "IjULYTxctm8w",
        "outputId": "07fb717e-f32b-4cf3-f5d6-c444b2adcac6"
      },
      "source": [
        "plt.plot(days, sales_1,label='sales_1',marker='o')\n",
        "plt.plot(days, sales_2,label='sales_2',marker='*')\n",
        "plt.title('Sales distribution',color='slateblue')\n",
        "plt.xlabel('days of the week',color='grey')\n",
        "plt.ylabel('sales',color='grey')\n",
        "plt.legend(loc='lower right')\n",
        "plt.grid()"
      ],
      "execution_count": 41,
      "outputs": [
        {
          "output_type": "display_data",
          "data": {
            "image/png": "[encoded data removed]",
            "text/plain": [
              "<Figure size 432x288 with 1 Axes>"
            ]
          },
          "metadata": {
            "tags": [],
            "needs_background": "light"
          }
        }
      ]
    }
  ]
}